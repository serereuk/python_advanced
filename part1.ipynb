{
  "nbformat": 4,
  "nbformat_minor": 0,
  "metadata": {
    "colab": {
      "name": "part1.ipynb",
      "version": "0.3.2",
      "provenance": [],
      "collapsed_sections": [],
      "include_colab_link": true
    },
    "kernelspec": {
      "name": "python3",
      "display_name": "Python 3"
    }
  },
  "cells": [
    {
      "cell_type": "markdown",
      "metadata": {
        "id": "view-in-github",
        "colab_type": "text"
      },
      "source": [
        "<a href=\"https://colab.research.google.com/github/serereuk/python_advanced/blob/master/part1.ipynb\" target=\"_parent\"><img src=\"https://colab.research.google.com/assets/colab-badge.svg\" alt=\"Open In Colab\"/></a>"
      ]
    },
    {
      "cell_type": "markdown",
      "metadata": {
        "id": "4YvR81x8nenx",
        "colab_type": "text"
      },
      "source": [
        "# Part 1. Generator"
      ]
    },
    {
      "cell_type": "code",
      "metadata": {
        "id": "DdnurQWGmmhx",
        "colab_type": "code",
        "outputId": "db9efda0-ca53-4632-92fe-0eb3438e3b09",
        "colab": {
          "base_uri": "https://localhost:8080/",
          "height": 34
        }
      },
      "source": [
        "## Generator 함수 \n",
        "def tt():\n",
        "  for i in range(5):\n",
        "    yield i\n",
        "print(tt())"
      ],
      "execution_count": 0,
      "outputs": [
        {
          "output_type": "stream",
          "text": [
            "<generator object tt at 0x7f5e634e0200>\n"
          ],
          "name": "stdout"
        }
      ]
    },
    {
      "cell_type": "code",
      "metadata": {
        "id": "NEuLbX5xnKVw",
        "colab_type": "code",
        "outputId": "f694c297-0bac-4119-80d3-735f495856ea",
        "colab": {
          "base_uri": "https://localhost:8080/",
          "height": 102
        }
      },
      "source": [
        "for j in tt():\n",
        "  print(j)"
      ],
      "execution_count": 0,
      "outputs": [
        {
          "output_type": "stream",
          "text": [
            "0\n",
            "1\n",
            "2\n",
            "3\n",
            "4\n"
          ],
          "name": "stdout"
        }
      ]
    },
    {
      "cell_type": "code",
      "metadata": {
        "id": "Ww0R24l6nmfR",
        "colab_type": "code",
        "outputId": "1f54e41d-31d0-4943-e006-743ab0ee7889",
        "colab": {
          "base_uri": "https://localhost:8080/",
          "height": 51
        }
      },
      "source": [
        "a = tt()\n",
        "print(next(a))\n",
        "print(next(a))"
      ],
      "execution_count": 0,
      "outputs": [
        {
          "output_type": "stream",
          "text": [
            "0\n",
            "1\n"
          ],
          "name": "stdout"
        }
      ]
    },
    {
      "cell_type": "code",
      "metadata": {
        "id": "e8hRJHP_k18E",
        "colab_type": "code",
        "outputId": "e52440c6-fdd9-432c-9242-e54699ea85bf",
        "colab": {
          "base_uri": "https://localhost:8080/",
          "height": 34
        }
      },
      "source": [
        "import sys\n",
        "'{}, 리스트로 한 경우 메모리'.format(sys.getsizeof([i for i in range(10000) if i % 2 == 0]))"
      ],
      "execution_count": 0,
      "outputs": [
        {
          "output_type": "execute_result",
          "data": {
            "text/plain": [
              "'43040, 리스트로 한 경우 메모리'"
            ]
          },
          "metadata": {
            "tags": []
          },
          "execution_count": 6
        }
      ]
    },
    {
      "cell_type": "code",
      "metadata": {
        "id": "FTzMPcsMk6ze",
        "colab_type": "code",
        "outputId": "565b698d-bf47-4b47-b47d-10903906bd8a",
        "colab": {
          "base_uri": "https://localhost:8080/",
          "height": 34
        }
      },
      "source": [
        "'{}, generater로 한 경우 메모리'.format(sys.getsizeof((i for i in range(10000) if i % 2 == 0)))"
      ],
      "execution_count": 0,
      "outputs": [
        {
          "output_type": "execute_result",
          "data": {
            "text/plain": [
              "'88, generater로 한 경우 메모리'"
            ]
          },
          "metadata": {
            "tags": []
          },
          "execution_count": 7
        }
      ]
    },
    {
      "cell_type": "markdown",
      "metadata": {
        "id": "OtB-x07dsirj",
        "colab_type": "text"
      },
      "source": [
        "# @staticmethod, classmethod"
      ]
    },
    {
      "cell_type": "code",
      "metadata": {
        "id": "juBMrXV4srAB",
        "colab_type": "code",
        "colab": {}
      },
      "source": [
        "## @staticmethod - self.house를 사용 불가능\n",
        "\n",
        "class home():\n",
        "  house = '집'\n",
        "  @staticmethod\n",
        "  def hihi(x):\n",
        "    return self.house + x"
      ],
      "execution_count": 0,
      "outputs": []
    },
    {
      "cell_type": "code",
      "metadata": {
        "id": "VVrIbnMws8jo",
        "colab_type": "code",
        "colab": {
          "base_uri": "https://localhost:8080/",
          "height": 249
        },
        "outputId": "a9e46fcd-e1e3-4d87-d45d-e0063c81bdc3"
      },
      "source": [
        "home.hihi('에 가고 싶다')"
      ],
      "execution_count": 25,
      "outputs": [
        {
          "output_type": "error",
          "ename": "NameError",
          "evalue": "ignored",
          "traceback": [
            "\u001b[0;31m---------------------------------------------------------------------------\u001b[0m",
            "\u001b[0;31mNameError\u001b[0m                                 Traceback (most recent call last)",
            "\u001b[0;32m<ipython-input-25-cbf61ee9fd41>\u001b[0m in \u001b[0;36m<module>\u001b[0;34m()\u001b[0m\n\u001b[0;32m----> 1\u001b[0;31m \u001b[0mhome\u001b[0m\u001b[0;34m.\u001b[0m\u001b[0mhihi\u001b[0m\u001b[0;34m(\u001b[0m\u001b[0;34m'에 가고 싶다'\u001b[0m\u001b[0;34m)\u001b[0m\u001b[0;34m\u001b[0m\u001b[0;34m\u001b[0m\u001b[0m\n\u001b[0m",
            "\u001b[0;32m<ipython-input-24-c1fbc7e28890>\u001b[0m in \u001b[0;36mhihi\u001b[0;34m(x)\u001b[0m\n\u001b[1;32m      4\u001b[0m   \u001b[0;34m@\u001b[0m\u001b[0mstaticmethod\u001b[0m\u001b[0;34m\u001b[0m\u001b[0;34m\u001b[0m\u001b[0m\n\u001b[1;32m      5\u001b[0m   \u001b[0;32mdef\u001b[0m \u001b[0mhihi\u001b[0m\u001b[0;34m(\u001b[0m\u001b[0mx\u001b[0m\u001b[0;34m)\u001b[0m\u001b[0;34m:\u001b[0m\u001b[0;34m\u001b[0m\u001b[0;34m\u001b[0m\u001b[0m\n\u001b[0;32m----> 6\u001b[0;31m     \u001b[0;32mreturn\u001b[0m \u001b[0mself\u001b[0m\u001b[0;34m.\u001b[0m\u001b[0mhouse\u001b[0m \u001b[0;34m+\u001b[0m \u001b[0mx\u001b[0m\u001b[0;34m\u001b[0m\u001b[0;34m\u001b[0m\u001b[0m\n\u001b[0m",
            "\u001b[0;31mNameError\u001b[0m: name 'self' is not defined"
          ]
        }
      ]
    },
    {
      "cell_type": "code",
      "metadata": {
        "id": "iYJfvVsPs_8z",
        "colab_type": "code",
        "colab": {}
      },
      "source": [
        "## @staticmethod - self.house를 쓰고 싶은 경우에는..?\n",
        "\n",
        "class home:\n",
        "  house = '집'\n",
        "  @staticmethod\n",
        "  def hihi(x):\n",
        "    return home.house + x"
      ],
      "execution_count": 0,
      "outputs": []
    },
    {
      "cell_type": "code",
      "metadata": {
        "id": "J_4erCLytX8t",
        "colab_type": "code",
        "colab": {
          "base_uri": "https://localhost:8080/",
          "height": 34
        },
        "outputId": "fd36e0a0-d987-4d66-db71-35143e19cafe"
      },
      "source": [
        "home.hihi('에 가고 싶다')"
      ],
      "execution_count": 23,
      "outputs": [
        {
          "output_type": "execute_result",
          "data": {
            "text/plain": [
              "'집에 가고 싶다'"
            ]
          },
          "metadata": {
            "tags": []
          },
          "execution_count": 23
        }
      ]
    },
    {
      "cell_type": "code",
      "metadata": {
        "id": "k0_QxsqStZjR",
        "colab_type": "code",
        "colab": {}
      },
      "source": [
        "## @classmethod - 경우에는..?\n",
        "\n",
        "class home:\n",
        "  house = '집'\n",
        "  @classmethod\n",
        "  def hihi(self, x):\n",
        "    return self.house + x"
      ],
      "execution_count": 0,
      "outputs": []
    },
    {
      "cell_type": "code",
      "metadata": {
        "id": "7PWSTS6Ft3r9",
        "colab_type": "code",
        "colab": {
          "base_uri": "https://localhost:8080/",
          "height": 34
        },
        "outputId": "f0a9920b-e903-4ae2-9382-846113fee907"
      },
      "source": [
        "home.hihi('에 가고 싶다')"
      ],
      "execution_count": 29,
      "outputs": [
        {
          "output_type": "execute_result",
          "data": {
            "text/plain": [
              "'집에 가고 싶다'"
            ]
          },
          "metadata": {
            "tags": []
          },
          "execution_count": 29
        }
      ]
    },
    {
      "cell_type": "markdown",
      "metadata": {
        "id": "2-eD0sIgusMf",
        "colab_type": "text"
      },
      "source": [
        "# 둘의 차이점 "
      ]
    },
    {
      "cell_type": "code",
      "metadata": {
        "id": "XpfuS7gcurfP",
        "colab_type": "code",
        "colab": {}
      },
      "source": [
        "## classmethod만 가능함\n",
        "\n",
        "class home:\n",
        "  house = '집'\n",
        "  \n",
        "  @classmethod\n",
        "  def hihi(self, x):\n",
        "    return self.house + x\n",
        "\n",
        "class home2(home):\n",
        "  house = '밖'"
      ],
      "execution_count": 0,
      "outputs": []
    },
    {
      "cell_type": "code",
      "metadata": {
        "id": "OuY2QZe8vJMO",
        "colab_type": "code",
        "colab": {
          "base_uri": "https://localhost:8080/",
          "height": 34
        },
        "outputId": "64dbd1b2-6080-4d53-ae73-93aac104e0ee"
      },
      "source": [
        "home2.hihi('에 가고 싶다')"
      ],
      "execution_count": 32,
      "outputs": [
        {
          "output_type": "execute_result",
          "data": {
            "text/plain": [
              "'밖에 가고 싶다'"
            ]
          },
          "metadata": {
            "tags": []
          },
          "execution_count": 32
        }
      ]
    },
    {
      "cell_type": "code",
      "metadata": {
        "id": "_iqZayfhvTP1",
        "colab_type": "code",
        "colab": {}
      },
      "source": [
        "## classmethod만 가능함\n",
        "\n",
        "class home:\n",
        "  house = '집'\n",
        "  \n",
        "  @staticmethod\n",
        "  def hihi(x):\n",
        "    return home.house + x\n",
        "\n",
        "class home2(home):\n",
        "  house = '밖'"
      ],
      "execution_count": 0,
      "outputs": []
    },
    {
      "cell_type": "code",
      "metadata": {
        "id": "KvL0lbhdvbSm",
        "colab_type": "code",
        "colab": {
          "base_uri": "https://localhost:8080/",
          "height": 34
        },
        "outputId": "7e4f1929-a5db-4019-e39e-ce8b03d18457"
      },
      "source": [
        "home2.hihi('에 가고 싶다')"
      ],
      "execution_count": 37,
      "outputs": [
        {
          "output_type": "execute_result",
          "data": {
            "text/plain": [
              "'집에 가고 싶다'"
            ]
          },
          "metadata": {
            "tags": []
          },
          "execution_count": 37
        }
      ]
    },
    {
      "cell_type": "code",
      "metadata": {
        "id": "cVfROS_Avc9H",
        "colab_type": "code",
        "colab": {}
      },
      "source": [
        "ㄴ"
      ],
      "execution_count": 0,
      "outputs": []
    }
  ]
}